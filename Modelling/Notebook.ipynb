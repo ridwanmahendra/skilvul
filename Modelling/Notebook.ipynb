{
 "cells": [
  {
   "cell_type": "markdown",
   "metadata": {},
   "source": [
    "# Import Dependency"
   ]
  },
  {
   "cell_type": "code",
   "execution_count": 1,
   "metadata": {},
   "outputs": [],
   "source": [
    "import pandas as pd\n",
    "from sklearn.ensemble import RandomForestRegressor\n",
    "from sklearn.model_selection import train_test_split\n",
    "from sklearn.metrics import mean_squared_error"
   ]
  },
  {
   "cell_type": "code",
   "execution_count": 3,
   "metadata": {},
   "outputs": [],
   "source": [
    "# Load data\n",
    "data = pd.read_csv('/Users/ridwanmahenra/Documents/skilvul/Data/appliance_data.csv')"
   ]
  },
  {
   "cell_type": "code",
   "execution_count": 9,
   "metadata": {},
   "outputs": [
    {
     "data": {
      "text/html": [
       "<div>\n",
       "<style scoped>\n",
       "    .dataframe tbody tr th:only-of-type {\n",
       "        vertical-align: middle;\n",
       "    }\n",
       "\n",
       "    .dataframe tbody tr th {\n",
       "        vertical-align: top;\n",
       "    }\n",
       "\n",
       "    .dataframe thead th {\n",
       "        text-align: right;\n",
       "    }\n",
       "</style>\n",
       "<table border=\"1\" class=\"dataframe\">\n",
       "  <thead>\n",
       "    <tr style=\"text-align: right;\">\n",
       "      <th></th>\n",
       "      <th>Voltage (V)</th>\n",
       "      <th>Ampere (A)</th>\n",
       "      <th>Timestamp</th>\n",
       "      <th>Device ID</th>\n",
       "    </tr>\n",
       "  </thead>\n",
       "  <tbody>\n",
       "    <tr>\n",
       "      <th>0</th>\n",
       "      <td>4.5</td>\n",
       "      <td>0.36</td>\n",
       "      <td>2024-03-01 00:00:00</td>\n",
       "      <td>TV</td>\n",
       "    </tr>\n",
       "    <tr>\n",
       "      <th>1</th>\n",
       "      <td>4.5</td>\n",
       "      <td>0.05</td>\n",
       "      <td>2024-03-01 00:05:00</td>\n",
       "      <td>TV</td>\n",
       "    </tr>\n",
       "    <tr>\n",
       "      <th>2</th>\n",
       "      <td>4.5</td>\n",
       "      <td>0.05</td>\n",
       "      <td>2024-03-01 00:10:00</td>\n",
       "      <td>TV</td>\n",
       "    </tr>\n",
       "    <tr>\n",
       "      <th>3</th>\n",
       "      <td>4.5</td>\n",
       "      <td>0.49</td>\n",
       "      <td>2024-03-01 00:15:00</td>\n",
       "      <td>TV</td>\n",
       "    </tr>\n",
       "    <tr>\n",
       "      <th>4</th>\n",
       "      <td>4.5</td>\n",
       "      <td>0.47</td>\n",
       "      <td>2024-03-01 00:20:00</td>\n",
       "      <td>TV</td>\n",
       "    </tr>\n",
       "    <tr>\n",
       "      <th>...</th>\n",
       "      <td>...</td>\n",
       "      <td>...</td>\n",
       "      <td>...</td>\n",
       "      <td>...</td>\n",
       "    </tr>\n",
       "    <tr>\n",
       "      <th>10075</th>\n",
       "      <td>5.0</td>\n",
       "      <td>0.91</td>\n",
       "      <td>2024-03-07 23:35:00</td>\n",
       "      <td>Refrigerator</td>\n",
       "    </tr>\n",
       "    <tr>\n",
       "      <th>10076</th>\n",
       "      <td>5.0</td>\n",
       "      <td>0.57</td>\n",
       "      <td>2024-03-07 23:40:00</td>\n",
       "      <td>Refrigerator</td>\n",
       "    </tr>\n",
       "    <tr>\n",
       "      <th>10077</th>\n",
       "      <td>5.0</td>\n",
       "      <td>0.85</td>\n",
       "      <td>2024-03-07 23:45:00</td>\n",
       "      <td>Refrigerator</td>\n",
       "    </tr>\n",
       "    <tr>\n",
       "      <th>10078</th>\n",
       "      <td>5.0</td>\n",
       "      <td>0.37</td>\n",
       "      <td>2024-03-07 23:50:00</td>\n",
       "      <td>Refrigerator</td>\n",
       "    </tr>\n",
       "    <tr>\n",
       "      <th>10079</th>\n",
       "      <td>5.0</td>\n",
       "      <td>0.08</td>\n",
       "      <td>2024-03-07 23:55:00</td>\n",
       "      <td>Refrigerator</td>\n",
       "    </tr>\n",
       "  </tbody>\n",
       "</table>\n",
       "<p>10080 rows × 4 columns</p>\n",
       "</div>"
      ],
      "text/plain": [
       "       Voltage (V)  Ampere (A)            Timestamp     Device ID\n",
       "0              4.5        0.36  2024-03-01 00:00:00            TV\n",
       "1              4.5        0.05  2024-03-01 00:05:00            TV\n",
       "2              4.5        0.05  2024-03-01 00:10:00            TV\n",
       "3              4.5        0.49  2024-03-01 00:15:00            TV\n",
       "4              4.5        0.47  2024-03-01 00:20:00            TV\n",
       "...            ...         ...                  ...           ...\n",
       "10075          5.0        0.91  2024-03-07 23:35:00  Refrigerator\n",
       "10076          5.0        0.57  2024-03-07 23:40:00  Refrigerator\n",
       "10077          5.0        0.85  2024-03-07 23:45:00  Refrigerator\n",
       "10078          5.0        0.37  2024-03-07 23:50:00  Refrigerator\n",
       "10079          5.0        0.08  2024-03-07 23:55:00  Refrigerator\n",
       "\n",
       "[10080 rows x 4 columns]"
      ]
     },
     "execution_count": 9,
     "metadata": {},
     "output_type": "execute_result"
    }
   ],
   "source": [
    "df = pd.DataFrame(data)\n",
    "df"
   ]
  },
  {
   "cell_type": "code",
   "execution_count": 10,
   "metadata": {},
   "outputs": [
    {
     "name": "stdout",
     "output_type": "stream",
     "text": [
      "<class 'pandas.core.frame.DataFrame'>\n",
      "RangeIndex: 10080 entries, 0 to 10079\n",
      "Data columns (total 4 columns):\n",
      " #   Column       Non-Null Count  Dtype  \n",
      "---  ------       --------------  -----  \n",
      " 0   Voltage (V)  10080 non-null  float64\n",
      " 1   Ampere (A)   10080 non-null  float64\n",
      " 2   Timestamp    10080 non-null  object \n",
      " 3   Device ID    10080 non-null  object \n",
      "dtypes: float64(2), object(2)\n",
      "memory usage: 315.1+ KB\n"
     ]
    }
   ],
   "source": [
    "df.info()"
   ]
  },
  {
   "cell_type": "markdown",
   "metadata": {},
   "source": [
    "# Data preprocessing"
   ]
  },
  {
   "cell_type": "markdown",
   "metadata": {},
   "source": [
    "## Convert timestamp to datetime\n",
    "Convert the 'Timestamp' column in a df dataframe to datetime data type using the pd.to_datetime() function. This is usually done when we want to utilize time or date information in data analysis, such as in time series modeling."
   ]
  },
  {
   "cell_type": "code",
   "execution_count": 12,
   "metadata": {},
   "outputs": [
    {
     "name": "stdout",
     "output_type": "stream",
     "text": [
      "<class 'pandas.core.frame.DataFrame'>\n",
      "RangeIndex: 10080 entries, 0 to 10079\n",
      "Data columns (total 4 columns):\n",
      " #   Column       Non-Null Count  Dtype         \n",
      "---  ------       --------------  -----         \n",
      " 0   Voltage (V)  10080 non-null  float64       \n",
      " 1   Ampere (A)   10080 non-null  float64       \n",
      " 2   Timestamp    10080 non-null  datetime64[ns]\n",
      " 3   Device ID    10080 non-null  object        \n",
      "dtypes: datetime64[ns](1), float64(2), object(1)\n",
      "memory usage: 315.1+ KB\n"
     ]
    }
   ],
   "source": [
    "df['Timestamp'] = pd.to_datetime(df['Timestamp'])\n",
    "df.info()"
   ]
  },
  {
   "cell_type": "markdown",
   "metadata": {},
   "source": [
    "## Calculate power consumption\n",
    "* Calculates electrical power (in watts) by using data from the 'Voltage (V)' column which contains the voltage value in volts and the 'Ampere (A)' column which contains the current value in amperes.\n",
    "\n",
    "* The calculation of electrical power is done by multiplying the voltage value by the current value on each row of data in the DataFrame."
   ]
  },
  {
   "cell_type": "code",
   "execution_count": 13,
   "metadata": {},
   "outputs": [],
   "source": [
    "df['Power (W)'] = df['Voltage (V)'] * df['Ampere (A)']"
   ]
  },
  {
   "cell_type": "code",
   "execution_count": 14,
   "metadata": {},
   "outputs": [
    {
     "data": {
      "text/html": [
       "<div>\n",
       "<style scoped>\n",
       "    .dataframe tbody tr th:only-of-type {\n",
       "        vertical-align: middle;\n",
       "    }\n",
       "\n",
       "    .dataframe tbody tr th {\n",
       "        vertical-align: top;\n",
       "    }\n",
       "\n",
       "    .dataframe thead th {\n",
       "        text-align: right;\n",
       "    }\n",
       "</style>\n",
       "<table border=\"1\" class=\"dataframe\">\n",
       "  <thead>\n",
       "    <tr style=\"text-align: right;\">\n",
       "      <th></th>\n",
       "      <th>Voltage (V)</th>\n",
       "      <th>Ampere (A)</th>\n",
       "      <th>Timestamp</th>\n",
       "      <th>Device ID</th>\n",
       "      <th>Power (W)</th>\n",
       "    </tr>\n",
       "  </thead>\n",
       "  <tbody>\n",
       "    <tr>\n",
       "      <th>0</th>\n",
       "      <td>4.5</td>\n",
       "      <td>0.36</td>\n",
       "      <td>2024-03-01 00:00:00</td>\n",
       "      <td>TV</td>\n",
       "      <td>1.620</td>\n",
       "    </tr>\n",
       "    <tr>\n",
       "      <th>1</th>\n",
       "      <td>4.5</td>\n",
       "      <td>0.05</td>\n",
       "      <td>2024-03-01 00:05:00</td>\n",
       "      <td>TV</td>\n",
       "      <td>0.225</td>\n",
       "    </tr>\n",
       "    <tr>\n",
       "      <th>2</th>\n",
       "      <td>4.5</td>\n",
       "      <td>0.05</td>\n",
       "      <td>2024-03-01 00:10:00</td>\n",
       "      <td>TV</td>\n",
       "      <td>0.225</td>\n",
       "    </tr>\n",
       "    <tr>\n",
       "      <th>3</th>\n",
       "      <td>4.5</td>\n",
       "      <td>0.49</td>\n",
       "      <td>2024-03-01 00:15:00</td>\n",
       "      <td>TV</td>\n",
       "      <td>2.205</td>\n",
       "    </tr>\n",
       "    <tr>\n",
       "      <th>4</th>\n",
       "      <td>4.5</td>\n",
       "      <td>0.47</td>\n",
       "      <td>2024-03-01 00:20:00</td>\n",
       "      <td>TV</td>\n",
       "      <td>2.115</td>\n",
       "    </tr>\n",
       "    <tr>\n",
       "      <th>...</th>\n",
       "      <td>...</td>\n",
       "      <td>...</td>\n",
       "      <td>...</td>\n",
       "      <td>...</td>\n",
       "      <td>...</td>\n",
       "    </tr>\n",
       "    <tr>\n",
       "      <th>10075</th>\n",
       "      <td>5.0</td>\n",
       "      <td>0.91</td>\n",
       "      <td>2024-03-07 23:35:00</td>\n",
       "      <td>Refrigerator</td>\n",
       "      <td>4.550</td>\n",
       "    </tr>\n",
       "    <tr>\n",
       "      <th>10076</th>\n",
       "      <td>5.0</td>\n",
       "      <td>0.57</td>\n",
       "      <td>2024-03-07 23:40:00</td>\n",
       "      <td>Refrigerator</td>\n",
       "      <td>2.850</td>\n",
       "    </tr>\n",
       "    <tr>\n",
       "      <th>10077</th>\n",
       "      <td>5.0</td>\n",
       "      <td>0.85</td>\n",
       "      <td>2024-03-07 23:45:00</td>\n",
       "      <td>Refrigerator</td>\n",
       "      <td>4.250</td>\n",
       "    </tr>\n",
       "    <tr>\n",
       "      <th>10078</th>\n",
       "      <td>5.0</td>\n",
       "      <td>0.37</td>\n",
       "      <td>2024-03-07 23:50:00</td>\n",
       "      <td>Refrigerator</td>\n",
       "      <td>1.850</td>\n",
       "    </tr>\n",
       "    <tr>\n",
       "      <th>10079</th>\n",
       "      <td>5.0</td>\n",
       "      <td>0.08</td>\n",
       "      <td>2024-03-07 23:55:00</td>\n",
       "      <td>Refrigerator</td>\n",
       "      <td>0.400</td>\n",
       "    </tr>\n",
       "  </tbody>\n",
       "</table>\n",
       "<p>10080 rows × 5 columns</p>\n",
       "</div>"
      ],
      "text/plain": [
       "       Voltage (V)  Ampere (A)           Timestamp     Device ID  Power (W)\n",
       "0              4.5        0.36 2024-03-01 00:00:00            TV      1.620\n",
       "1              4.5        0.05 2024-03-01 00:05:00            TV      0.225\n",
       "2              4.5        0.05 2024-03-01 00:10:00            TV      0.225\n",
       "3              4.5        0.49 2024-03-01 00:15:00            TV      2.205\n",
       "4              4.5        0.47 2024-03-01 00:20:00            TV      2.115\n",
       "...            ...         ...                 ...           ...        ...\n",
       "10075          5.0        0.91 2024-03-07 23:35:00  Refrigerator      4.550\n",
       "10076          5.0        0.57 2024-03-07 23:40:00  Refrigerator      2.850\n",
       "10077          5.0        0.85 2024-03-07 23:45:00  Refrigerator      4.250\n",
       "10078          5.0        0.37 2024-03-07 23:50:00  Refrigerator      1.850\n",
       "10079          5.0        0.08 2024-03-07 23:55:00  Refrigerator      0.400\n",
       "\n",
       "[10080 rows x 5 columns]"
      ]
     },
     "execution_count": 14,
     "metadata": {},
     "output_type": "execute_result"
    }
   ],
   "source": [
    "df"
   ]
  },
  {
   "cell_type": "markdown",
   "metadata": {},
   "source": [
    "# Feature transformation\n",
    "* Feature Selection/Extraction: We select two features, namely \"Voltage (V)\" and \"Ampere (A)\", because we believe that these two features will have a correlation with electric power consumption.\n",
    "\n",
    "* Data Labeling (Target Labeling): Our target is \"Power (W)\" or electrical power consumption in watts."
   ]
  },
  {
   "cell_type": "code",
   "execution_count": 15,
   "metadata": {},
   "outputs": [],
   "source": [
    "\n",
    "X = df[['Voltage (V)', 'Ampere (A)']]\n",
    "y = df['Power (W)']"
   ]
  },
  {
   "cell_type": "markdown",
   "metadata": {},
   "source": [
    "# Spliting Data\n",
    "\n",
    "At this stage, the previously prepared data (features and labels) is divided into two subsets: training set and validation set. "
   ]
  },
  {
   "cell_type": "code",
   "execution_count": 16,
   "metadata": {},
   "outputs": [],
   "source": [
    "# Split data into training and validation sets\n",
    "X_train, X_valid, y_train, y_valid = train_test_split(X, y, test_size=0.2, random_state=42)"
   ]
  },
  {
   "cell_type": "markdown",
   "metadata": {},
   "source": [
    "# Modeling Training\n",
    "* RandomForestRegressor: This is a machine learning algorithm used to build regression models. Random Forest is one of the effective ensemble methods that uses a large number of random decision trees to make predictions.\n",
    "\n",
    "* random_state=42: This parameter is used to specify the seed used by the random number generator in the algorithm. This ensures that the random decision tree generation is done in a consistent manner from one execution to another. In this case, we use the value 42 as the random seed for consistent results.\n",
    "\n",
    "Once the model is created, the next step is to train the model using the training data. This is done using the fit method, where the model will learn from the patterns contained in the given training data."
   ]
  },
  {
   "cell_type": "code",
   "execution_count": 17,
   "metadata": {},
   "outputs": [
    {
     "data": {
      "text/html": [
       "<style>#sk-container-id-1 {color: black;background-color: white;}#sk-container-id-1 pre{padding: 0;}#sk-container-id-1 div.sk-toggleable {background-color: white;}#sk-container-id-1 label.sk-toggleable__label {cursor: pointer;display: block;width: 100%;margin-bottom: 0;padding: 0.3em;box-sizing: border-box;text-align: center;}#sk-container-id-1 label.sk-toggleable__label-arrow:before {content: \"▸\";float: left;margin-right: 0.25em;color: #696969;}#sk-container-id-1 label.sk-toggleable__label-arrow:hover:before {color: black;}#sk-container-id-1 div.sk-estimator:hover label.sk-toggleable__label-arrow:before {color: black;}#sk-container-id-1 div.sk-toggleable__content {max-height: 0;max-width: 0;overflow: hidden;text-align: left;background-color: #f0f8ff;}#sk-container-id-1 div.sk-toggleable__content pre {margin: 0.2em;color: black;border-radius: 0.25em;background-color: #f0f8ff;}#sk-container-id-1 input.sk-toggleable__control:checked~div.sk-toggleable__content {max-height: 200px;max-width: 100%;overflow: auto;}#sk-container-id-1 input.sk-toggleable__control:checked~label.sk-toggleable__label-arrow:before {content: \"▾\";}#sk-container-id-1 div.sk-estimator input.sk-toggleable__control:checked~label.sk-toggleable__label {background-color: #d4ebff;}#sk-container-id-1 div.sk-label input.sk-toggleable__control:checked~label.sk-toggleable__label {background-color: #d4ebff;}#sk-container-id-1 input.sk-hidden--visually {border: 0;clip: rect(1px 1px 1px 1px);clip: rect(1px, 1px, 1px, 1px);height: 1px;margin: -1px;overflow: hidden;padding: 0;position: absolute;width: 1px;}#sk-container-id-1 div.sk-estimator {font-family: monospace;background-color: #f0f8ff;border: 1px dotted black;border-radius: 0.25em;box-sizing: border-box;margin-bottom: 0.5em;}#sk-container-id-1 div.sk-estimator:hover {background-color: #d4ebff;}#sk-container-id-1 div.sk-parallel-item::after {content: \"\";width: 100%;border-bottom: 1px solid gray;flex-grow: 1;}#sk-container-id-1 div.sk-label:hover label.sk-toggleable__label {background-color: #d4ebff;}#sk-container-id-1 div.sk-serial::before {content: \"\";position: absolute;border-left: 1px solid gray;box-sizing: border-box;top: 0;bottom: 0;left: 50%;z-index: 0;}#sk-container-id-1 div.sk-serial {display: flex;flex-direction: column;align-items: center;background-color: white;padding-right: 0.2em;padding-left: 0.2em;position: relative;}#sk-container-id-1 div.sk-item {position: relative;z-index: 1;}#sk-container-id-1 div.sk-parallel {display: flex;align-items: stretch;justify-content: center;background-color: white;position: relative;}#sk-container-id-1 div.sk-item::before, #sk-container-id-1 div.sk-parallel-item::before {content: \"\";position: absolute;border-left: 1px solid gray;box-sizing: border-box;top: 0;bottom: 0;left: 50%;z-index: -1;}#sk-container-id-1 div.sk-parallel-item {display: flex;flex-direction: column;z-index: 1;position: relative;background-color: white;}#sk-container-id-1 div.sk-parallel-item:first-child::after {align-self: flex-end;width: 50%;}#sk-container-id-1 div.sk-parallel-item:last-child::after {align-self: flex-start;width: 50%;}#sk-container-id-1 div.sk-parallel-item:only-child::after {width: 0;}#sk-container-id-1 div.sk-dashed-wrapped {border: 1px dashed gray;margin: 0 0.4em 0.5em 0.4em;box-sizing: border-box;padding-bottom: 0.4em;background-color: white;}#sk-container-id-1 div.sk-label label {font-family: monospace;font-weight: bold;display: inline-block;line-height: 1.2em;}#sk-container-id-1 div.sk-label-container {text-align: center;}#sk-container-id-1 div.sk-container {/* jupyter's `normalize.less` sets `[hidden] { display: none; }` but bootstrap.min.css set `[hidden] { display: none !important; }` so we also need the `!important` here to be able to override the default hidden behavior on the sphinx rendered scikit-learn.org. See: https://github.com/scikit-learn/scikit-learn/issues/21755 */display: inline-block !important;position: relative;}#sk-container-id-1 div.sk-text-repr-fallback {display: none;}</style><div id=\"sk-container-id-1\" class=\"sk-top-container\"><div class=\"sk-text-repr-fallback\"><pre>RandomForestRegressor(random_state=42)</pre><b>In a Jupyter environment, please rerun this cell to show the HTML representation or trust the notebook. <br />On GitHub, the HTML representation is unable to render, please try loading this page with nbviewer.org.</b></div><div class=\"sk-container\" hidden><div class=\"sk-item\"><div class=\"sk-estimator sk-toggleable\"><input class=\"sk-toggleable__control sk-hidden--visually\" id=\"sk-estimator-id-1\" type=\"checkbox\" checked><label for=\"sk-estimator-id-1\" class=\"sk-toggleable__label sk-toggleable__label-arrow\">RandomForestRegressor</label><div class=\"sk-toggleable__content\"><pre>RandomForestRegressor(random_state=42)</pre></div></div></div></div></div>"
      ],
      "text/plain": [
       "RandomForestRegressor(random_state=42)"
      ]
     },
     "execution_count": 17,
     "metadata": {},
     "output_type": "execute_result"
    }
   ],
   "source": [
    "model = RandomForestRegressor(random_state=42)\n",
    "model.fit(X_train, y_train)"
   ]
  },
  {
   "cell_type": "markdown",
   "metadata": {},
   "source": [
    "# Predicting power consumption\n",
    "Predicting power consumption for the validation set involves using a pre-trained machine learning model to estimate the power consumption value corresponding to the input features (voltage and amperage) in the validation dataset (X_valid).\n",
    "* model.predict(X_valid): Metode ini menerapkan model yang telah dilatih pada fitur input dalam set validasi (X_valid) untuk menghasilkan prediksi variabel target (konsumsi daya). Metode ini mengembalikan sebuah larik nilai konsumsi daya yang diprediksi, yang disimpan dalam variabel y_pred.\n"
   ]
  },
  {
   "cell_type": "code",
   "execution_count": 18,
   "metadata": {},
   "outputs": [],
   "source": [
    "y_pred = model.predict(X_valid)"
   ]
  },
  {
   "cell_type": "markdown",
   "metadata": {},
   "source": [
    "# MSE\n",
    "The mean squared error is calculated using the actual power consumption values (y_valid) from the validation set and the predicted power consumption values (y_pred) generated by your model. The mean_squared_error function computes the MSE between these two arrays."
   ]
  },
  {
   "cell_type": "code",
   "execution_count": 19,
   "metadata": {},
   "outputs": [
    {
     "name": "stdout",
     "output_type": "stream",
     "text": [
      "Mean Squared Error: 0.0002696350148809011\n"
     ]
    }
   ],
   "source": [
    "mse = mean_squared_error(y_valid, y_pred)\n",
    "print(\"Mean Squared Error:\", mse)"
   ]
  },
  {
   "cell_type": "markdown",
   "metadata": {},
   "source": [
    "* The Mean Squared Error (MSE) value is about \n",
    "0.0002696 indicates that, on average, the squared difference between the actual power consumption value and the value predicted by the model is very low.\n",
    "\n",
    "* Since MSE is a measure of the average squared deviation of the prediction from the actual value, a lower MSE indicates a better performance of this regression model. In this case, the low MSE value indicates that the model's predictions are very close to the actual power consumption values in the validation set.\n",
    "\n",
    "* This indicates that the Random Forest regression model performed well on the validation data, with relatively accurate power consumption predictions."
   ]
  },
  {
   "cell_type": "markdown",
   "metadata": {},
   "source": [
    "# Performance Metrics"
   ]
  },
  {
   "cell_type": "markdown",
   "metadata": {},
   "source": [
    "## Performance Train Data\n",
    "* The MAE value of about 0.00157 indicates that, on average, the absolute difference between the actual power consumption value and the value predicted by the model is very low. A lower MAE indicates better performance, and in this case, the model's predictions are very close to the actual values.\n",
    "* The R2 score of approximately 0.999999 indicates that  model explains almost all of the variability of the response data around its mean. A value close to 1.0 suggests that  model fits the data very well, indicating an excellent performance in capturing the variance in the target variable based on the features."
   ]
  },
  {
   "cell_type": "code",
   "execution_count": 20,
   "metadata": {},
   "outputs": [
    {
     "name": "stdout",
     "output_type": "stream",
     "text": [
      "Performance Metrics for Training Data:\n",
      "Mean Absolute Error (MAE): 0.0015742559523878822\n",
      "R-squared (R2): 0.999999890713417\n"
     ]
    }
   ],
   "source": [
    "from sklearn.metrics import mean_absolute_error, r2_score\n",
    "\n",
    "y_train_pred = model.predict(X_train)\n",
    "\n",
    "mae_train = mean_absolute_error(y_train, y_train_pred)\n",
    "\n",
    "r2_train = r2_score(y_train, y_train_pred)\n",
    "\n",
    "print(\"Performance Metrics for Training Data:\")\n",
    "print(\"Mean Absolute Error (MAE):\", mae_train)\n",
    "print(\"R-squared (R2):\", r2_train)\n"
   ]
  },
  {
   "cell_type": "markdown",
   "metadata": {},
   "source": [
    "## Performance Validation Data\n",
    "* The MAE value of approximately 0.00416 indicates that, on average, the absolute difference between the actual power consumption values and the predicted values by  model is very low. While this value is slightly higher than the MAE for the training data, it still suggests that the model's predictions are very close to the actual values.\n",
    "* The R2 score of approximately 0.999999425 indicates that your model explains almost all of the variability of the response data around its mean for the validation set. Like the training data, this suggests that the model fits the validation data very well, capturing a high level of variance in the target variable based on the features."
   ]
  },
  {
   "cell_type": "code",
   "execution_count": 21,
   "metadata": {},
   "outputs": [
    {
     "name": "stdout",
     "output_type": "stream",
     "text": [
      "\n",
      "Performance Metrics for Validation Data:\n",
      "Mean Absolute Error (MAE): 0.004160863095242394\n",
      "R-squared (R2): 0.9999994250174804\n"
     ]
    }
   ],
   "source": [
    "mae_valid = mean_absolute_error(y_valid, y_pred)\n",
    "\n",
    "r2_valid = r2_score(y_valid, y_pred)\n",
    "\n",
    "print(\"\\nPerformance Metrics for Validation Data:\")\n",
    "print(\"Mean Absolute Error (MAE):\", mae_valid)\n",
    "print(\"R-squared (R2):\", r2_valid)\n"
   ]
  },
  {
   "cell_type": "markdown",
   "metadata": {},
   "source": [
    "# Prediction"
   ]
  },
  {
   "cell_type": "code",
   "execution_count": 22,
   "metadata": {},
   "outputs": [
    {
     "name": "stdout",
     "output_type": "stream",
     "text": [
      "New Data:\n",
      "   Voltage (V)  Ampere (A) Device ID\n",
      "0          4.5         0.2        TV\n",
      "1         18.0         2.0        AC\n"
     ]
    }
   ],
   "source": [
    "import pandas as pd\n",
    "\n",
    "new_data = pd.DataFrame({\n",
    "    'Voltage (V)': [4.5, 18],\n",
    "    'Ampere (A)': [0.2, 2.0],\n",
    "    'Device ID': ['TV', 'AC']\n",
    "})\n",
    "\n",
    "print(\"New Data:\")\n",
    "print(new_data)\n"
   ]
  },
  {
   "cell_type": "markdown",
   "metadata": {},
   "source": [
    "* Using the pre-trained model, we predict the power consumption for the given new data.\n",
    "\n",
    "* After getting the predicted power consumption for each device, we sum them up to get the total power consumption.\n",
    "\n",
    "* After getting the power consumption prediction for each device, we sum them up to get the total power consumption.\n",
    "\n",
    "* Using the predefined electricity rate per kWh (for example, 450 rupiah per kWh), we multiply the total power consumption by the rate to get the electricity bill.\n",
    "\n",
    "* To calculate each device's contribution to the electricity bill, we divide each device's predicted power consumption by the total power consumption."
   ]
  },
  {
   "cell_type": "code",
   "execution_count": 27,
   "metadata": {},
   "outputs": [
    {
     "name": "stdout",
     "output_type": "stream",
     "text": [
      "Predicted Electricity Bill: Rp  16603.38\n",
      "Ranking of Devices based on Contribution:\n",
      "  Device  Contribution\n",
      "1     AC      0.975607\n",
      "0     TV      0.024393\n"
     ]
    }
   ],
   "source": [
    "# Predict power consumption for new data\n",
    "predicted_power = model.predict(new_data[['Voltage (V)', 'Ampere (A)']])\n",
    "\n",
    "# Calculate total power consumption\n",
    "total_power_consumption = predicted_power.sum()\n",
    "\n",
    "# Calculate electricity bill based on electricity tariff\n",
    "electricity_rate_per_kWh = 450  # Rupiah per kWh\n",
    "electricity_bill = total_power_consumption * electricity_rate_per_kWh\n",
    "\n",
    "print(\"Predicted Electricity Bill: Rp \", electricity_bill)\n",
    "\n",
    "# Calculate the contribution of each device to the electricity bill\n",
    "device_contributions = predicted_power / total_power_consumption\n",
    "\n",
    "# Create DataFrame for devices and their contribution\n",
    "device_ranking = pd.DataFrame({\n",
    "    'Device': new_data['Device ID'],  # Ambil nama perangkat dari data baru\n",
    "    'Contribution': device_contributions\n",
    "})\n",
    "\n",
    "# Sort the DataFrame by contribution\n",
    "device_ranking = device_ranking.sort_values(by='Contribution', ascending=False)\n",
    "\n",
    "print(\"Ranking of Devices based on Contribution:\")\n",
    "print(device_ranking)\n"
   ]
  },
  {
   "cell_type": "markdown",
   "metadata": {},
   "source": [
    "# Save Model"
   ]
  },
  {
   "cell_type": "code",
   "execution_count": null,
   "metadata": {},
   "outputs": [],
   "source": [
    "import joblib\n",
    "\n",
    "# Simpan model ke file\n",
    "joblib.dump(model, 'model.pkl')\n"
   ]
  }
 ],
 "metadata": {
  "kernelspec": {
   "display_name": "Python 3",
   "language": "python",
   "name": "python3"
  },
  "language_info": {
   "codemirror_mode": {
    "name": "ipython",
    "version": 3
   },
   "file_extension": ".py",
   "mimetype": "text/x-python",
   "name": "python",
   "nbconvert_exporter": "python",
   "pygments_lexer": "ipython3",
   "version": "3.8.7"
  }
 },
 "nbformat": 4,
 "nbformat_minor": 2
}
